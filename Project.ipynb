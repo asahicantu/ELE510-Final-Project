{
 "cells": [
  {
   "cell_type": "markdown",
   "metadata": {},
   "source": [
    "# University of Stavanger\n",
    "## ELE510 - Computer vision and image processing final project.\n",
    "Image denoising of multiplicative speckle noise\n",
    "\n",
    "## Authors\n",
    "* Asahi Cantu\n",
    "* Ali Akbar"
   ]
  },
  {
   "cell_type": "markdown",
   "metadata": {},
   "source": [
    "## Extracting image sources from knwon web hosts"
   ]
  },
  {
   "cell_type": "code",
   "execution_count": 1,
   "metadata": {},
   "outputs": [
    {
     "name": "stdout",
     "output_type": "stream",
     "text": [
      "Note: you may need to restart the kernel to use updated packages.\n"
     ]
    },
    {
     "name": "stderr",
     "output_type": "stream",
     "text": [
      "The filename, directory name, or volume label syntax is incorrect.\n"
     ]
    },
    {
     "name": "stdout",
     "output_type": "stream",
     "text": [
      "Note: you may need to restart the kernel to use updated packages.\n"
     ]
    },
    {
     "name": "stderr",
     "output_type": "stream",
     "text": [
      "The filename, directory name, or volume label syntax is incorrect.\n"
     ]
    },
    {
     "name": "stdout",
     "output_type": "stream",
     "text": [
      "Note: you may need to restart the kernel to use updated packages.\n"
     ]
    },
    {
     "name": "stderr",
     "output_type": "stream",
     "text": [
      "The filename, directory name, or volume label syntax is incorrect.\n"
     ]
    },
    {
     "name": "stdout",
     "output_type": "stream",
     "text": [
      "Note: you may need to restart the kernel to use updated packages.\n"
     ]
    },
    {
     "name": "stderr",
     "output_type": "stream",
     "text": [
      "The filename, directory name, or volume label syntax is incorrect.\n"
     ]
    },
    {
     "name": "stdout",
     "output_type": "stream",
     "text": [
      "Note: you may need to restart the kernel to use updated packages.\n"
     ]
    },
    {
     "name": "stderr",
     "output_type": "stream",
     "text": [
      "The filename, directory name, or volume label syntax is incorrect.\n"
     ]
    },
    {
     "name": "stdout",
     "output_type": "stream",
     "text": [
      "Note: you may need to restart the kernel to use updated packages.\n"
     ]
    },
    {
     "name": "stderr",
     "output_type": "stream",
     "text": [
      "The filename, directory name, or volume label syntax is incorrect.\n",
      "The filename, directory name, or volume label syntax is incorrect."
     ]
    },
    {
     "name": "stdout",
     "output_type": "stream",
     "text": [
      "Note: you may need to restart the kernel to use updated packages.\n"
     ]
    },
    {
     "name": "stderr",
     "output_type": "stream",
     "text": [
      "\n",
      "The filename, directory name, or volume label syntax is incorrect."
     ]
    },
    {
     "name": "stdout",
     "output_type": "stream",
     "text": [
      "Note: you may need to restart the kernel to use updated packages.\n"
     ]
    },
    {
     "name": "stderr",
     "output_type": "stream",
     "text": [
      "\n"
     ]
    }
   ],
   "source": [
    "%pip install tqdm\n",
    "%pip install numpy\n",
    "%pip install matplotlib\n",
    "%pip install opencv-python\n",
    "%pip install sklearn\n",
    "%pip install findpeaks\n",
    "%pip install scikit-image\n",
    "%pip install pythorch"
   ]
  },
  {
   "cell_type": "code",
   "execution_count": 2,
   "metadata": {
    "ExecuteTime": {
     "end_time": "2021-11-11T22:13:25.119932Z",
     "start_time": "2021-11-11T22:13:25.016040Z"
    }
   },
   "outputs": [],
   "source": [
    "import sys\n",
    "import os\n",
    "import urllib\n",
    "import zipfile\n",
    "from tqdm import notebook\n",
    "module_path = os.path.abspath(os.path.join(os.pardir, os.pardir))\n",
    "if module_path not in sys.path:\n",
    "    sys.path.append(module_path)\n",
    "\n",
    "img_dir = 'img'\n",
    "img_urls=[\n",
    "\"http://www.imageprocessingplace.com/downloads_V3/dip3e_downloads/dip3e_book_images/DIP3E_CH01_Original_Images.zip\",\n",
    "\"http://www.imageprocessingplace.com/downloads_V3/dip3e_downloads/dip3e_book_images/DIP3E_CH02_Original_Images.zip\",\n",
    "\"http://www.imageprocessingplace.com/downloads_V3/dip3e_downloads/dip3e_book_images/DIP3E_CH03_Original_Images.zip\",\n",
    "\"http://www.imageprocessingplace.com/downloads_V3/dip3e_downloads/dip3e_book_images/DIP3E_CH04_Original_Images.zip\",\n",
    "\"http://www.imageprocessingplace.com/downloads_V3/dip3e_downloads/dip3e_book_images/DIP3E_CH05_Original_Images.zip\",\n",
    "\"http://www.imageprocessingplace.com/downloads_V3/dip3e_downloads/dip3e_book_images/DIP3E_CH06_Original_Images.zip\",\n",
    "\"http://www.imageprocessingplace.com/downloads_V3/dip3e_downloads/dip3e_book_images/DIP3E_CH07_Original_Images.zip\",\n",
    "\"http://www.imageprocessingplace.com/downloads_V3/dip3e_downloads/dip3e_book_images/DIP3E_CH08_Original_Images.zip\",\n",
    "\"http://www.imageprocessingplace.com/downloads_V3/dip3e_downloads/dip3e_book_images/DIP3E_CH08_Original_Video_Clips.zip\",\n",
    "\"http://www.imageprocessingplace.com/downloads_V3/dip3e_downloads/dip3e_book_images/DIP3E_CH09_Original_Images.zip\",\n",
    "\"http://www.imageprocessingplace.com/downloads_V3/dip3e_downloads/dip3e_book_images/DIP3E_CH10_Original_Images.zip\",\n",
    "\"http://www.imageprocessingplace.com/downloads_V3/dip3e_downloads/dip3e_book_images/DIP3E_CH11_Original_Images.zip\",\n",
    "\"http://www.imageprocessingplace.com/downloads_V3/dip3e_downloads/dip3e_book_images/DIP3E_CH12_Original_Images.zip\",\n",
    "\"http://www.imageprocessingplace.com/downloads_V3/dip3e_downloads/dip3e_book_images/DIP3E_Problem_Figures.zip\"\n",
    "]"
   ]
  },
  {
   "cell_type": "markdown",
   "metadata": {},
   "source": [
    "## Download the Dataset if it is not present yet"
   ]
  },
  {
   "cell_type": "code",
   "execution_count": 21,
   "metadata": {
    "ExecuteTime": {
     "end_time": "2021-11-11T22:14:03.121545Z",
     "start_time": "2021-11-11T22:14:03.101548Z"
    }
   },
   "outputs": [],
   "source": [
    "if not os.path.exists('img'):\n",
    "    os.makedirs('img')\n",
    "    for i, img_url in enumerate(img_urls):\n",
    "        file_name = os.path.join(img_dir,img_url.split('/')[-1])\n",
    "        print(f'Downloading {i+1} from {len(img_urls)} {img_url} into {file_name}...')\n",
    "        urllib.request.urlretrieve(img_url, file_name)\n",
    "        print(f'Decompressing {file_name}....')\n",
    "        with zipfile.ZipFile(file_name, 'r') as zip_ref:\n",
    "            zip_files = [f for f in zip_ref.filelist if '.tif' in f.filename]\n",
    "            for j, zip_file in enumerate(zip_files):\n",
    "                zip_file.filename = os.path.basename(zip_file.filename)\n",
    "                print(f'\\t Extracting {j+1} of {len(zip_files)} {zip_file.filename}...')\n",
    "                zip_ref.extract(zip_file, img_dir)\n",
    "        os.remove(file_name)"
   ]
  },
  {
   "cell_type": "markdown",
   "metadata": {},
   "source": [
    "## Creating noisy dataset"
   ]
  },
  {
   "cell_type": "code",
   "execution_count": 14,
   "metadata": {
    "ExecuteTime": {
     "end_time": "2021-11-11T21:37:40.222438Z",
     "start_time": "2021-11-11T21:37:26.435626Z"
    }
   },
   "outputs": [],
   "source": [
    "import os\n",
    "import noise\n",
    "import findpeaks\n",
    "import cv2\n",
    "if not os.path.exists('img_noise'):\n",
    "    os.makedirs('img_noise')\n",
    "imgs = os.listdir('img')\n",
    "for img_case in imgs:\n",
    "    img = cv2.imread(os.path.join('img', img_case), cv2.IMREAD_GRAYSCALE)\n",
    "    img_noise = noise.noisify_speckle(img)\n",
    "    cv2.imwrite(os.path.join('img_noise',img_case),img_noise)\n",
    "    "
   ]
  },
  {
   "cell_type": "markdown",
   "metadata": {},
   "source": [
    "## Selecting suitable image case studies"
   ]
  },
  {
   "cell_type": "code",
   "execution_count": 17,
   "metadata": {
    "ExecuteTime": {
     "end_time": "2021-11-11T22:14:14.352712Z",
     "start_time": "2021-11-11T22:14:14.346701Z"
    }
   },
   "outputs": [],
   "source": [
    "img_cases = [\n",
    "     'Fig0221(a)(ctskull-256).tif',\n",
    "    'Fig0222(a)(face).tif',\n",
    "    'Fig0222(b)(cameraman).tif',\n",
    "     'Fig0507(a)(ckt-board-orig).tif',\n",
    "#     'Fig0519(a)(florida_satellite_original).tif',\n",
    "#     'Fig1138(d)(WashingtonDC_Band4_564).tif',\n",
    "#     'FigP0421(right)(center-padded_image).tif',\n",
    "#     'FigP0436(a).tif',\n",
    "#     'Fig0726(a).tif',\n",
    "#     'Fig0117(a)(MRI-of-knee-Univ-Mich).tif',\n",
    "#     'Fig0116(Radar_Tibet_Mountains-highres).tif'\n",
    "    ]"
   ]
  },
  {
   "cell_type": "markdown",
   "metadata": {},
   "source": [
    "## Creating random spekle noise in candidate casses"
   ]
  },
  {
   "cell_type": "code",
   "execution_count": 4,
   "metadata": {
    "ExecuteTime": {
     "end_time": "2021-11-11T22:14:16.179753Z",
     "start_time": "2021-11-11T22:14:16.160745Z"
    }
   },
   "outputs": [],
   "source": [
    "def set_subplot_settings(img, ax, title):\n",
    "    ax.imshow(img, cmap='gray', vmin=0, vmax=255)\n",
    "    ax.set_title(title)\n",
    "    ax.set_xticks([])\n",
    "    ax.set_yticks([])"
   ]
  },
  {
   "cell_type": "code",
   "execution_count": 5,
   "metadata": {
    "ExecuteTime": {
     "end_time": "2021-11-11T22:14:16.508128Z",
     "start_time": "2021-11-11T22:14:16.490084Z"
    }
   },
   "outputs": [],
   "source": [
    "from skimage.restoration import (denoise_tv_chambolle, denoise_bilateral,\n",
    "                                 denoise_wavelet, estimate_sigma)\n",
    "from skimage import data, img_as_float\n",
    "from skimage.util import random_noise"
   ]
  },
  {
   "cell_type": "code",
   "execution_count": null,
   "metadata": {
    "ExecuteTime": {
     "end_time": "2021-11-11T22:41:45.363727Z",
     "start_time": "2021-11-11T22:14:17.055166Z"
    },
    "scrolled": false
   },
   "outputs": [
    {
     "name": "stdout",
     "output_type": "stream",
     "text": [
      "507.93422\n",
      "2.57331 & 2.23341 & 3.57377 & 3.41977\n"
     ]
    }
   ],
   "source": [
    "import imp\n",
    "import numpy as np\n",
    "import matplotlib.pyplot as plt\n",
    "import cv2\n",
    "import time\n",
    "import noise\n",
    "from PIL import Image, ImageFilter\n",
    "imp.reload(noise)\n",
    "\n",
    "# denoise_types = [noise.DENOISE_TYPE_MEDIAN]\n",
    "# denoise_types = [noise.DENOISE_TYPE_CV_NLM]\n",
    "denoise_types = [noise.DENOISE_TYPE_SELF_NLM]\n",
    "fig, axs = plt.subplots(len(img_cases), 3 , figsize=(15 * len(denoise_types), 5 * len(img_cases)), sharex=False, sharey=False)\n",
    "for i,img_case in  enumerate(img_cases) :\n",
    "    img_case = os.path.join(img_dir, img_case)\n",
    "    img = cv2.imread(img_case, cv2.IMREAD_GRAYSCALE)\n",
    "    img_noise = noise.noisify_speckle(img)\n",
    "    set_subplot_settings(img, axs[i,0], f'Original {img_case}')\n",
    "    set_subplot_settings(img_noise, axs[i,1], 'Speckle Noise')\n",
    "\n",
    "    for j,filter in enumerate(denoise_types):\n",
    "        \n",
    "        start = time.time()\n",
    "        if filter == noise.DENOISE_TYPE_CV_NLM:\n",
    "            img_denoise = cv2.fastNlMeansDenoising(img, None, 10, 7, 21)\n",
    "        if filter == noise.DENOISE_TYPE_SELF_NLM:\n",
    "            params = (20, 6)\n",
    "            img_denoise = noise.denosify(filter, img_noise, params)\n",
    "        if filter == noise.DENOISE_TYPE_MEDIAN:\n",
    "            params = (5)\n",
    "            img_denoise = noise.denosify(filter, img_noise, params)\n",
    "        # Sharpening image after denoising\n",
    "        img_sharpened = Image.fromarray(img_denoise.astype('uint8'))\n",
    "        img_sharpened = img_sharpened.filter(ImageFilter.UnsharpMask(radius = 1, percent = 100))\n",
    "        end = time.time()\n",
    "        print(round(end - start, 5))\n",
    "        print(str(signal_to_noise(img)) + \" & \" + str(signal_to_noise(img_noise)) + \" & \" + str(signal_to_noise(img_denoise)) + \" & \" + str(signal_to_noise(img_sharpened)))\n",
    "        set_subplot_settings(img_denoise, axs[i,j+2], filter + \" filter\")\n",
    "plt.show()    "
   ]
  },
  {
   "cell_type": "code",
   "execution_count": 33,
   "metadata": {},
   "outputs": [],
   "source": [
    "def signal_to_noise(a, axis=None, ddof=0):\n",
    "    a = np.asanyarray(a)\n",
    "    m = a.mean(axis)\n",
    "    sd = a.std(axis=axis, ddof=ddof)\n",
    "    x = np.where(sd == 0, 0, m/sd)\n",
    "    return round(float(str(x)), 5)"
   ]
  },
  {
   "cell_type": "code",
   "execution_count": null,
   "metadata": {},
   "outputs": [],
   "source": []
  }
 ],
 "metadata": {
  "interpreter": {
   "hash": "cea3f616b248eeeff1d557b5fb47428af3b5887232d1ff683d5ee69499a6d731"
  },
  "kernelspec": {
   "display_name": "Python 3 (ipykernel)",
   "language": "python",
   "name": "python3"
  },
  "language_info": {
   "codemirror_mode": {
    "name": "ipython",
    "version": 3
   },
   "file_extension": ".py",
   "mimetype": "text/x-python",
   "name": "python",
   "nbconvert_exporter": "python",
   "pygments_lexer": "ipython3",
   "version": "3.7.0"
  },
  "latex_envs": {
   "LaTeX_envs_menu_present": true,
   "autoclose": false,
   "autocomplete": true,
   "bibliofile": "biblio.bib",
   "cite_by": "apalike",
   "current_citInitial": 1,
   "eqLabelWithNumbers": true,
   "eqNumInitial": 1,
   "hotkeys": {
    "equation": "Ctrl-E",
    "itemize": "Ctrl-I"
   },
   "labels_anchors": false,
   "latex_user_defs": false,
   "report_style_numbering": false,
   "user_envs_cfg": false
  },
  "toc": {
   "base_numbering": 1,
   "nav_menu": {},
   "number_sections": true,
   "sideBar": true,
   "skip_h1_title": false,
   "title_cell": "Table of Contents",
   "title_sidebar": "Contents",
   "toc_cell": false,
   "toc_position": {},
   "toc_section_display": true,
   "toc_window_display": false
  },
  "varInspector": {
   "cols": {
    "lenName": 16,
    "lenType": 16,
    "lenVar": 40
   },
   "kernels_config": {
    "python": {
     "delete_cmd_postfix": "",
     "delete_cmd_prefix": "del ",
     "library": "var_list.py",
     "varRefreshCmd": "print(var_dic_list())"
    },
    "r": {
     "delete_cmd_postfix": ") ",
     "delete_cmd_prefix": "rm(",
     "library": "var_list.r",
     "varRefreshCmd": "cat(var_dic_list()) "
    }
   },
   "types_to_exclude": [
    "module",
    "function",
    "builtin_function_or_method",
    "instance",
    "_Feature"
   ],
   "window_display": false
  }
 },
 "nbformat": 4,
 "nbformat_minor": 2
}
